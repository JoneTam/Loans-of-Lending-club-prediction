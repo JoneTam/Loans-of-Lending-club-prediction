{
 "cells": [
  {
   "cell_type": "code",
   "execution_count": 1,
   "metadata": {},
   "outputs": [],
   "source": [
    "# %load_ext lab_black\n"
   ]
  },
  {
   "cell_type": "code",
   "execution_count": 2,
   "metadata": {},
   "outputs": [],
   "source": [
    "import numpy as np\n",
    "import pandas as pd\n",
    "import matplotlib.pyplot as plt\n",
    "import seaborn as sns\n",
    "import functions as myFunc\n",
    "import warnings\n",
    "\n",
    "warnings.simplefilter(action=\"ignore\", category=FutureWarning)"
   ]
  },
  {
   "cell_type": "code",
   "execution_count": 3,
   "metadata": {},
   "outputs": [],
   "source": [
    "pd.set_option(\"float_format\", \"{:.2f}\".format)\n",
    "pd.set_option(\"display.max_columns\", None)\n",
    "pd.set_option(\"display.max_rows\", 150)"
   ]
  },
  {
   "cell_type": "markdown",
   "metadata": {},
   "source": [
    "# Cleaning of rejected_loan_df"
   ]
  },
  {
   "cell_type": "code",
   "execution_count": 4,
   "metadata": {},
   "outputs": [],
   "source": [
    "rejected_loan_df = pd.read_csv(\"rejected_2007_to_2018Q4.csv\")"
   ]
  },
  {
   "cell_type": "markdown",
   "metadata": {},
   "source": [
    "Our dataset of rejected loans have more then 27 millions rows and 9 columns.  So we may see, that just 2 out of 27 millions gets accepted the loan."
   ]
  },
  {
   "cell_type": "code",
   "execution_count": 5,
   "metadata": {},
   "outputs": [
    {
     "data": {
      "text/html": [
       "<div>\n",
       "<style scoped>\n",
       "    .dataframe tbody tr th:only-of-type {\n",
       "        vertical-align: middle;\n",
       "    }\n",
       "\n",
       "    .dataframe tbody tr th {\n",
       "        vertical-align: top;\n",
       "    }\n",
       "\n",
       "    .dataframe thead th {\n",
       "        text-align: right;\n",
       "    }\n",
       "</style>\n",
       "<table border=\"1\" class=\"dataframe\">\n",
       "  <thead>\n",
       "    <tr style=\"text-align: right;\">\n",
       "      <th></th>\n",
       "      <th>Amount Requested</th>\n",
       "      <th>Application Date</th>\n",
       "      <th>Loan Title</th>\n",
       "      <th>Risk_Score</th>\n",
       "      <th>Debt-To-Income Ratio</th>\n",
       "      <th>Zip Code</th>\n",
       "      <th>State</th>\n",
       "      <th>Employment Length</th>\n",
       "      <th>Policy Code</th>\n",
       "    </tr>\n",
       "  </thead>\n",
       "  <tbody>\n",
       "    <tr>\n",
       "      <th>1841253</th>\n",
       "      <td>6000.00</td>\n",
       "      <td>2018-08-10</td>\n",
       "      <td>Home buying</td>\n",
       "      <td>NaN</td>\n",
       "      <td>17.13%</td>\n",
       "      <td>985xx</td>\n",
       "      <td>WA</td>\n",
       "      <td>&lt; 1 year</td>\n",
       "      <td>0.00</td>\n",
       "    </tr>\n",
       "    <tr>\n",
       "      <th>3728007</th>\n",
       "      <td>5000.00</td>\n",
       "      <td>2018-03-14</td>\n",
       "      <td>Moving and relocation</td>\n",
       "      <td>NaN</td>\n",
       "      <td>0.95%</td>\n",
       "      <td>082xx</td>\n",
       "      <td>NJ</td>\n",
       "      <td>&lt; 1 year</td>\n",
       "      <td>0.00</td>\n",
       "    </tr>\n",
       "    <tr>\n",
       "      <th>7473685</th>\n",
       "      <td>20000.00</td>\n",
       "      <td>2015-04-21</td>\n",
       "      <td>other</td>\n",
       "      <td>NaN</td>\n",
       "      <td>30%</td>\n",
       "      <td>206xx</td>\n",
       "      <td>MD</td>\n",
       "      <td>&lt; 1 year</td>\n",
       "      <td>0.00</td>\n",
       "    </tr>\n",
       "    <tr>\n",
       "      <th>4997479</th>\n",
       "      <td>10000.00</td>\n",
       "      <td>2018-10-11</td>\n",
       "      <td>Business</td>\n",
       "      <td>NaN</td>\n",
       "      <td>0.96%</td>\n",
       "      <td>883xx</td>\n",
       "      <td>NM</td>\n",
       "      <td>9 years</td>\n",
       "      <td>0.00</td>\n",
       "    </tr>\n",
       "    <tr>\n",
       "      <th>970403</th>\n",
       "      <td>15000.00</td>\n",
       "      <td>2016-09-22</td>\n",
       "      <td>Other</td>\n",
       "      <td>502.00</td>\n",
       "      <td>8.35%</td>\n",
       "      <td>112xx</td>\n",
       "      <td>NY</td>\n",
       "      <td>&lt; 1 year</td>\n",
       "      <td>0.00</td>\n",
       "    </tr>\n",
       "  </tbody>\n",
       "</table>\n",
       "</div>"
      ],
      "text/plain": [
       "         Amount Requested Application Date             Loan Title  Risk_Score  \\\n",
       "1841253           6000.00       2018-08-10            Home buying         NaN   \n",
       "3728007           5000.00       2018-03-14  Moving and relocation         NaN   \n",
       "7473685          20000.00       2015-04-21                  other         NaN   \n",
       "4997479          10000.00       2018-10-11               Business         NaN   \n",
       "970403           15000.00       2016-09-22                  Other      502.00   \n",
       "\n",
       "        Debt-To-Income Ratio Zip Code State Employment Length  Policy Code  \n",
       "1841253               17.13%    985xx    WA          < 1 year         0.00  \n",
       "3728007                0.95%    082xx    NJ          < 1 year         0.00  \n",
       "7473685                  30%    206xx    MD          < 1 year         0.00  \n",
       "4997479                0.96%    883xx    NM           9 years         0.00  \n",
       "970403                 8.35%    112xx    NY          < 1 year         0.00  "
      ]
     },
     "execution_count": 5,
     "metadata": {},
     "output_type": "execute_result"
    }
   ],
   "source": [
    "rejected_loan_df.sample(5)"
   ]
  },
  {
   "cell_type": "markdown",
   "metadata": {},
   "source": [
    "- Checking for duplicates"
   ]
  },
  {
   "cell_type": "code",
   "execution_count": 6,
   "metadata": {},
   "outputs": [
    {
     "data": {
      "text/plain": [
       "18518"
      ]
     },
     "execution_count": 6,
     "metadata": {},
     "output_type": "execute_result"
    }
   ],
   "source": [
    "rejected_loan_df.duplicated().sum()"
   ]
  },
  {
   "cell_type": "markdown",
   "metadata": {},
   "source": [
    "We have duplicated lines. In modeling part we will need to drop it."
   ]
  },
  {
   "cell_type": "markdown",
   "metadata": {},
   "source": [
    "## Missing values"
   ]
  },
  {
   "cell_type": "markdown",
   "metadata": {},
   "source": [
    "At this point i will not drop or impute any missing values. Later in modeling part I will impute it with -9999."
   ]
  },
  {
   "cell_type": "code",
   "execution_count": 7,
   "metadata": {},
   "outputs": [
    {
     "data": {
      "text/plain": [
       "Amount Requested              0\n",
       "Application Date              0\n",
       "Loan Title                  404\n",
       "Risk_Score              6166697\n",
       "Debt-To-Income Ratio          0\n",
       "Zip Code                     96\n",
       "State                         9\n",
       "Employment Length        318195\n",
       "Policy Code                 291\n",
       "dtype: int64"
      ]
     },
     "execution_count": 7,
     "metadata": {},
     "output_type": "execute_result"
    }
   ],
   "source": [
    "rejected_loan_df.isnull().sum()"
   ]
  },
  {
   "cell_type": "markdown",
   "metadata": {},
   "source": [
    "## Data transormation"
   ]
  },
  {
   "cell_type": "markdown",
   "metadata": {},
   "source": [
    "Let's seperate moth and year from string value of Application Date."
   ]
  },
  {
   "cell_type": "code",
   "execution_count": 8,
   "metadata": {},
   "outputs": [],
   "source": [
    "rejected_loan_df[\"Month\"] = rejected_loan_df[\"Application Date\"].str[5:7].astype(int)\n",
    "rejected_loan_df[\"Year\"] = rejected_loan_df[\"Application Date\"].str[:4].astype(int)"
   ]
  },
  {
   "cell_type": "markdown",
   "metadata": {},
   "source": [
    "Let's drop features, wich we will not be using."
   ]
  },
  {
   "cell_type": "code",
   "execution_count": 9,
   "metadata": {},
   "outputs": [],
   "source": [
    "rejected_loan_df = rejected_loan_df.drop(\n",
    "    [\"Application Date\", \"Zip Code\", \"Loan Title\"], axis=1\n",
    ")"
   ]
  },
  {
   "cell_type": "markdown",
   "metadata": {},
   "source": [
    "Let's remove percentage symbol from Debt-To-Income Ratio."
   ]
  },
  {
   "cell_type": "code",
   "execution_count": 10,
   "metadata": {},
   "outputs": [],
   "source": [
    "rejected_loan_df[\"Debt-To-Income Ratio\"] = (\n",
    "    rejected_loan_df[\"Debt-To-Income Ratio\"].str.replace(\"%\", \"\").astype(float)\n",
    ")"
   ]
  },
  {
   "cell_type": "markdown",
   "metadata": {},
   "source": [
    "Also we need to transform string to numeric in Employment Length."
   ]
  },
  {
   "cell_type": "code",
   "execution_count": 11,
   "metadata": {},
   "outputs": [],
   "source": [
    "rejected_loan_df[\"Employment Length\"] = (\n",
    "    rejected_loan_df[\"Employment Length\"]\n",
    "    .replace(\n",
    "        {\n",
    "            \"< 1 year\": \"0\",\n",
    "            \"1 year\": \"1\",\n",
    "            \"2 years\": \"2\",\n",
    "            \"3 years\": \"3\",\n",
    "            \"4 years\": \"4\",\n",
    "            \"5 years\": \"5\",\n",
    "            \"6 years\": \"6\",\n",
    "            \"7 years\": \"7\",\n",
    "            \"8 years\": \"8\",\n",
    "            \"9 years\": \"9\",\n",
    "            \"10+ years\": \"10\",\n",
    "        }\n",
    "    )\n",
    "    .astype(float)\n",
    ")"
   ]
  },
  {
   "cell_type": "code",
   "execution_count": 12,
   "metadata": {},
   "outputs": [
    {
     "data": {
      "text/html": [
       "<div>\n",
       "<style scoped>\n",
       "    .dataframe tbody tr th:only-of-type {\n",
       "        vertical-align: middle;\n",
       "    }\n",
       "\n",
       "    .dataframe tbody tr th {\n",
       "        vertical-align: top;\n",
       "    }\n",
       "\n",
       "    .dataframe thead th {\n",
       "        text-align: right;\n",
       "    }\n",
       "</style>\n",
       "<table border=\"1\" class=\"dataframe\">\n",
       "  <thead>\n",
       "    <tr style=\"text-align: right;\">\n",
       "      <th></th>\n",
       "      <th>Amount Requested</th>\n",
       "      <th>Risk_Score</th>\n",
       "      <th>Debt-To-Income Ratio</th>\n",
       "      <th>State</th>\n",
       "      <th>Employment Length</th>\n",
       "      <th>Policy Code</th>\n",
       "      <th>Month</th>\n",
       "      <th>Year</th>\n",
       "    </tr>\n",
       "  </thead>\n",
       "  <tbody>\n",
       "    <tr>\n",
       "      <th>125240</th>\n",
       "      <td>10000.00</td>\n",
       "      <td>732.00</td>\n",
       "      <td>24.24</td>\n",
       "      <td>CA</td>\n",
       "      <td>7.00</td>\n",
       "      <td>0.00</td>\n",
       "      <td>11</td>\n",
       "      <td>2011</td>\n",
       "    </tr>\n",
       "    <tr>\n",
       "      <th>1680770</th>\n",
       "      <td>8000.00</td>\n",
       "      <td>NaN</td>\n",
       "      <td>22.01</td>\n",
       "      <td>OH</td>\n",
       "      <td>0.00</td>\n",
       "      <td>0.00</td>\n",
       "      <td>7</td>\n",
       "      <td>2018</td>\n",
       "    </tr>\n",
       "    <tr>\n",
       "      <th>640563</th>\n",
       "      <td>10000.00</td>\n",
       "      <td>NaN</td>\n",
       "      <td>0.00</td>\n",
       "      <td>SC</td>\n",
       "      <td>0.00</td>\n",
       "      <td>0.00</td>\n",
       "      <td>7</td>\n",
       "      <td>2016</td>\n",
       "    </tr>\n",
       "    <tr>\n",
       "      <th>3923213</th>\n",
       "      <td>40000.00</td>\n",
       "      <td>NaN</td>\n",
       "      <td>13.50</td>\n",
       "      <td>TX</td>\n",
       "      <td>NaN</td>\n",
       "      <td>0.00</td>\n",
       "      <td>7</td>\n",
       "      <td>2017</td>\n",
       "    </tr>\n",
       "    <tr>\n",
       "      <th>1633154</th>\n",
       "      <td>5000.00</td>\n",
       "      <td>NaN</td>\n",
       "      <td>16.26</td>\n",
       "      <td>SC</td>\n",
       "      <td>0.00</td>\n",
       "      <td>0.00</td>\n",
       "      <td>7</td>\n",
       "      <td>2018</td>\n",
       "    </tr>\n",
       "  </tbody>\n",
       "</table>\n",
       "</div>"
      ],
      "text/plain": [
       "         Amount Requested  Risk_Score  Debt-To-Income Ratio State  \\\n",
       "125240           10000.00      732.00                 24.24    CA   \n",
       "1680770           8000.00         NaN                 22.01    OH   \n",
       "640563           10000.00         NaN                  0.00    SC   \n",
       "3923213          40000.00         NaN                 13.50    TX   \n",
       "1633154           5000.00         NaN                 16.26    SC   \n",
       "\n",
       "         Employment Length  Policy Code  Month  Year  \n",
       "125240                7.00         0.00     11  2011  \n",
       "1680770               0.00         0.00      7  2018  \n",
       "640563                0.00         0.00      7  2016  \n",
       "3923213                NaN         0.00      7  2017  \n",
       "1633154               0.00         0.00      7  2018  "
      ]
     },
     "execution_count": 12,
     "metadata": {},
     "output_type": "execute_result"
    }
   ],
   "source": [
    "rejected_loan_df.sample(5)"
   ]
  },
  {
   "cell_type": "markdown",
   "metadata": {},
   "source": [
    "We managed to transform most of the features to numerics features."
   ]
  },
  {
   "cell_type": "markdown",
   "metadata": {},
   "source": [
    "# Categorical data check"
   ]
  },
  {
   "cell_type": "code",
   "execution_count": 13,
   "metadata": {},
   "outputs": [
    {
     "data": {
      "text/html": [
       "<div>\n",
       "<style scoped>\n",
       "    .dataframe tbody tr th:only-of-type {\n",
       "        vertical-align: middle;\n",
       "    }\n",
       "\n",
       "    .dataframe tbody tr th {\n",
       "        vertical-align: top;\n",
       "    }\n",
       "\n",
       "    .dataframe thead th {\n",
       "        text-align: right;\n",
       "    }\n",
       "</style>\n",
       "<table border=\"1\" class=\"dataframe\">\n",
       "  <thead>\n",
       "    <tr style=\"text-align: right;\">\n",
       "      <th></th>\n",
       "      <th>State</th>\n",
       "    </tr>\n",
       "  </thead>\n",
       "  <tbody>\n",
       "    <tr>\n",
       "      <th>0</th>\n",
       "      <td>MD</td>\n",
       "    </tr>\n",
       "    <tr>\n",
       "      <th>1</th>\n",
       "      <td>NY</td>\n",
       "    </tr>\n",
       "    <tr>\n",
       "      <th>2</th>\n",
       "      <td>CO</td>\n",
       "    </tr>\n",
       "    <tr>\n",
       "      <th>3</th>\n",
       "      <td>KY</td>\n",
       "    </tr>\n",
       "    <tr>\n",
       "      <th>4</th>\n",
       "      <td>AL</td>\n",
       "    </tr>\n",
       "  </tbody>\n",
       "</table>\n",
       "</div>"
      ],
      "text/plain": [
       "  State\n",
       "0    MD\n",
       "1    NY\n",
       "2    CO\n",
       "3    KY\n",
       "4    AL"
      ]
     },
     "execution_count": 13,
     "metadata": {},
     "output_type": "execute_result"
    }
   ],
   "source": [
    "object_cols = rejected_loan_df.select_dtypes(include=object)\n",
    "object_cols.head()"
   ]
  },
  {
   "cell_type": "markdown",
   "metadata": {},
   "source": [
    "We have just only one categorical feature from rejected dataset."
   ]
  },
  {
   "cell_type": "code",
   "execution_count": 14,
   "metadata": {},
   "outputs": [
    {
     "data": {
      "text/html": [
       "<div>\n",
       "<style scoped>\n",
       "    .dataframe tbody tr th:only-of-type {\n",
       "        vertical-align: middle;\n",
       "    }\n",
       "\n",
       "    .dataframe tbody tr th {\n",
       "        vertical-align: top;\n",
       "    }\n",
       "\n",
       "    .dataframe thead th {\n",
       "        text-align: right;\n",
       "    }\n",
       "</style>\n",
       "<table border=\"1\" class=\"dataframe\">\n",
       "  <thead>\n",
       "    <tr style=\"text-align: right;\">\n",
       "      <th></th>\n",
       "      <th>Column name</th>\n",
       "      <th>Unique Value Count</th>\n",
       "    </tr>\n",
       "  </thead>\n",
       "  <tbody>\n",
       "    <tr>\n",
       "      <th>0</th>\n",
       "      <td>State</td>\n",
       "      <td>51</td>\n",
       "    </tr>\n",
       "  </tbody>\n",
       "</table>\n",
       "</div>"
      ],
      "text/plain": [
       "  Column name  Unique Value Count\n",
       "0       State                  51"
      ]
     },
     "execution_count": 14,
     "metadata": {},
     "output_type": "execute_result"
    }
   ],
   "source": [
    "myFunc.count_unique_values(object_cols).sort_values(\n",
    "    by=\"Unique Value Count\", ascending=False\n",
    ")\n"
   ]
  },
  {
   "cell_type": "markdown",
   "metadata": {},
   "source": [
    "We may see, that it has around 50 different possible values. Let's check if all values looks correct."
   ]
  },
  {
   "cell_type": "code",
   "execution_count": 15,
   "metadata": {},
   "outputs": [
    {
     "name": "stdout",
     "output_type": "stream",
     "text": [
      "['MD' 'NY' 'CO' 'KY' 'AL' 'TX' 'OH' 'MN' 'CT' 'CA' 'IN' 'GA' 'MA' 'FL'\n",
      " 'PA' 'KS' 'WV' 'TN' 'UT' 'WA' 'NC' 'VA' 'VT' 'MS' 'MO' 'SC' 'WI' 'AK'\n",
      " 'MI' 'AR' 'NM' 'IL' 'HI' 'NJ' 'NE' 'LA' 'OK' 'DC' 'AZ' 'DE' 'ME' 'NV'\n",
      " 'ID' 'NH' 'WY' 'OR' 'MT' 'RI' 'IA' 'ND' 'SD' nan]\n"
     ]
    }
   ],
   "source": [
    "col_lst = object_cols.columns.to_list()\n",
    "\n",
    "for col in col_lst:\n",
    "    print(object_cols[col].unique())"
   ]
  },
  {
   "cell_type": "markdown",
   "metadata": {},
   "source": [
    "Categorical features looks good. Let's check numerics."
   ]
  },
  {
   "cell_type": "markdown",
   "metadata": {},
   "source": [
    "### Numeric Features check"
   ]
  },
  {
   "cell_type": "markdown",
   "metadata": {},
   "source": [
    "#### Outliers"
   ]
  },
  {
   "cell_type": "code",
   "execution_count": 16,
   "metadata": {},
   "outputs": [
    {
     "data": {
      "text/html": [
       "<div>\n",
       "<style scoped>\n",
       "    .dataframe tbody tr th:only-of-type {\n",
       "        vertical-align: middle;\n",
       "    }\n",
       "\n",
       "    .dataframe tbody tr th {\n",
       "        vertical-align: top;\n",
       "    }\n",
       "\n",
       "    .dataframe thead th {\n",
       "        text-align: right;\n",
       "    }\n",
       "</style>\n",
       "<table border=\"1\" class=\"dataframe\">\n",
       "  <thead>\n",
       "    <tr style=\"text-align: right;\">\n",
       "      <th></th>\n",
       "      <th>Amount Requested</th>\n",
       "      <th>Risk_Score</th>\n",
       "      <th>Debt-To-Income Ratio</th>\n",
       "      <th>Employment Length</th>\n",
       "      <th>Policy Code</th>\n",
       "      <th>Month</th>\n",
       "      <th>Year</th>\n",
       "    </tr>\n",
       "  </thead>\n",
       "  <tbody>\n",
       "    <tr>\n",
       "      <th>count</th>\n",
       "      <td>9216247.00</td>\n",
       "      <td>3049550.00</td>\n",
       "      <td>9216247.00</td>\n",
       "      <td>8898052.00</td>\n",
       "      <td>9215956.00</td>\n",
       "      <td>9216247.00</td>\n",
       "      <td>9216247.00</td>\n",
       "    </tr>\n",
       "    <tr>\n",
       "      <th>mean</th>\n",
       "      <td>13138.79</td>\n",
       "      <td>628.12</td>\n",
       "      <td>141.84</td>\n",
       "      <td>0.71</td>\n",
       "      <td>0.01</td>\n",
       "      <td>6.95</td>\n",
       "      <td>2016.48</td>\n",
       "    </tr>\n",
       "    <tr>\n",
       "      <th>std</th>\n",
       "      <td>15032.03</td>\n",
       "      <td>90.07</td>\n",
       "      <td>4474.53</td>\n",
       "      <td>1.97</td>\n",
       "      <td>0.11</td>\n",
       "      <td>3.37</td>\n",
       "      <td>1.66</td>\n",
       "    </tr>\n",
       "    <tr>\n",
       "      <th>min</th>\n",
       "      <td>0.00</td>\n",
       "      <td>0.00</td>\n",
       "      <td>-1.00</td>\n",
       "      <td>0.00</td>\n",
       "      <td>0.00</td>\n",
       "      <td>1.00</td>\n",
       "      <td>2007.00</td>\n",
       "    </tr>\n",
       "    <tr>\n",
       "      <th>25%</th>\n",
       "      <td>4925.00</td>\n",
       "      <td>591.00</td>\n",
       "      <td>8.07</td>\n",
       "      <td>0.00</td>\n",
       "      <td>0.00</td>\n",
       "      <td>4.00</td>\n",
       "      <td>2016.00</td>\n",
       "    </tr>\n",
       "    <tr>\n",
       "      <th>50%</th>\n",
       "      <td>10000.00</td>\n",
       "      <td>637.00</td>\n",
       "      <td>19.99</td>\n",
       "      <td>0.00</td>\n",
       "      <td>0.00</td>\n",
       "      <td>7.00</td>\n",
       "      <td>2017.00</td>\n",
       "    </tr>\n",
       "    <tr>\n",
       "      <th>75%</th>\n",
       "      <td>20000.00</td>\n",
       "      <td>675.00</td>\n",
       "      <td>36.62</td>\n",
       "      <td>0.00</td>\n",
       "      <td>0.00</td>\n",
       "      <td>10.00</td>\n",
       "      <td>2018.00</td>\n",
       "    </tr>\n",
       "    <tr>\n",
       "      <th>max</th>\n",
       "      <td>1400000.00</td>\n",
       "      <td>990.00</td>\n",
       "      <td>7374826.00</td>\n",
       "      <td>10.00</td>\n",
       "      <td>2.00</td>\n",
       "      <td>12.00</td>\n",
       "      <td>2018.00</td>\n",
       "    </tr>\n",
       "  </tbody>\n",
       "</table>\n",
       "</div>"
      ],
      "text/plain": [
       "       Amount Requested  Risk_Score  Debt-To-Income Ratio  Employment Length  \\\n",
       "count        9216247.00  3049550.00            9216247.00         8898052.00   \n",
       "mean           13138.79      628.12                141.84               0.71   \n",
       "std            15032.03       90.07               4474.53               1.97   \n",
       "min                0.00        0.00                 -1.00               0.00   \n",
       "25%             4925.00      591.00                  8.07               0.00   \n",
       "50%            10000.00      637.00                 19.99               0.00   \n",
       "75%            20000.00      675.00                 36.62               0.00   \n",
       "max          1400000.00      990.00            7374826.00              10.00   \n",
       "\n",
       "       Policy Code      Month       Year  \n",
       "count   9215956.00 9216247.00 9216247.00  \n",
       "mean          0.01       6.95    2016.48  \n",
       "std           0.11       3.37       1.66  \n",
       "min           0.00       1.00    2007.00  \n",
       "25%           0.00       4.00    2016.00  \n",
       "50%           0.00       7.00    2017.00  \n",
       "75%           0.00      10.00    2018.00  \n",
       "max           2.00      12.00    2018.00  "
      ]
     },
     "execution_count": 16,
     "metadata": {},
     "output_type": "execute_result"
    }
   ],
   "source": [
    "rejected_loan_df.describe()"
   ]
  },
  {
   "cell_type": "markdown",
   "metadata": {},
   "source": [
    "We may see, that Debt-To-Income Ratio has very strange values. It should be a percentage."
   ]
  },
  {
   "cell_type": "code",
   "execution_count": 17,
   "metadata": {},
   "outputs": [
    {
     "data": {
      "image/png": "[encoded data removed]",
      "text/plain": [
       "<Figure size 2000x2000 with 6 Axes>"
      ]
     },
     "metadata": {},
     "output_type": "display_data"
    }
   ],
   "source": [
    "numeric_cols = rejected_loan_df.select_dtypes(include=np.number)\n",
    "\n",
    "plt.figure(figsize=(20, 20))\n",
    "for i in range(1, len(numeric_cols.columns)):\n",
    "    plt.subplot(5, 3, i)\n",
    "    outlier = sns.boxplot(x=numeric_cols.columns[i - 1], data=numeric_cols)\n",
    "    outlier.xaxis.grid(True)\n",
    "    outlier.set(xlabel=\"\")\n",
    "    outlier.set_title(f\"{numeric_cols.columns[i-1]}\")\n",
    "    sns.despine(right=True, left=True)\n",
    "plt.show()"
   ]
  },
  {
   "cell_type": "code",
   "execution_count": 18,
   "metadata": {},
   "outputs": [],
   "source": [
    "rejected_loan_df = rejected_loan_df[rejected_loan_df[\"Debt-To-Income Ratio\"] <= 100]\n",
    "rejected_loan_df = rejected_loan_df[rejected_loan_df[\"Debt-To-Income Ratio\"] >= 0]"
   ]
  },
  {
   "cell_type": "markdown",
   "metadata": {},
   "source": [
    "From the box plots we se, that Debt-To-Income Ratio was incorrect. Also, we may see that Risk-score has outlier 0.  \n",
    "\n",
    "The overall FICO score range or Risk score is between 300 and 850. In general, scores in the 670 to 739 range indicate a “good” credit history and most lenders will consider this score favorable. In contrast, borrowers in the 580 to 669 range may find it difficult to get financing at attractive rates. (https://www.investopedia.com/terms/f/ficoscore.asp).  \n",
    "We may see, that fico scores are not all correct. Let's drop incorrect lines."
   ]
  },
  {
   "cell_type": "code",
   "execution_count": 19,
   "metadata": {},
   "outputs": [],
   "source": [
    "df_negative_risk = rejected_loan_df[rejected_loan_df[\"Risk_Score\"] <= 0]\n",
    "df_positive_risk = rejected_loan_df[rejected_loan_df[\"Risk_Score\"] > 0]\n",
    "df_missing_risk = rejected_loan_df[rejected_loan_df[\"Risk_Score\"].isna()]"
   ]
  },
  {
   "cell_type": "markdown",
   "metadata": {},
   "source": [
    "Before droping strange Risk score values, lets explore it seperatly to be certain about our decision."
   ]
  },
  {
   "cell_type": "code",
   "execution_count": 20,
   "metadata": {},
   "outputs": [
    {
     "data": {
      "text/html": [
       "<div>\n",
       "<style scoped>\n",
       "    .dataframe tbody tr th:only-of-type {\n",
       "        vertical-align: middle;\n",
       "    }\n",
       "\n",
       "    .dataframe tbody tr th {\n",
       "        vertical-align: top;\n",
       "    }\n",
       "\n",
       "    .dataframe thead th {\n",
       "        text-align: right;\n",
       "    }\n",
       "</style>\n",
       "<table border=\"1\" class=\"dataframe\">\n",
       "  <thead>\n",
       "    <tr style=\"text-align: right;\">\n",
       "      <th></th>\n",
       "      <th>Amount Requested</th>\n",
       "      <th>Risk_Score</th>\n",
       "      <th>Debt-To-Income Ratio</th>\n",
       "      <th>Employment Length</th>\n",
       "      <th>Policy Code</th>\n",
       "      <th>Month</th>\n",
       "      <th>Year</th>\n",
       "    </tr>\n",
       "  </thead>\n",
       "  <tbody>\n",
       "    <tr>\n",
       "      <th>count</th>\n",
       "      <td>27440.00</td>\n",
       "      <td>27440.00</td>\n",
       "      <td>27440.00</td>\n",
       "      <td>27320.00</td>\n",
       "      <td>27440.00</td>\n",
       "      <td>27440.00</td>\n",
       "      <td>27440.00</td>\n",
       "    </tr>\n",
       "    <tr>\n",
       "      <th>mean</th>\n",
       "      <td>7744.67</td>\n",
       "      <td>0.00</td>\n",
       "      <td>1.32</td>\n",
       "      <td>0.31</td>\n",
       "      <td>0.00</td>\n",
       "      <td>6.90</td>\n",
       "      <td>2011.83</td>\n",
       "    </tr>\n",
       "    <tr>\n",
       "      <th>std</th>\n",
       "      <td>8784.96</td>\n",
       "      <td>0.00</td>\n",
       "      <td>5.97</td>\n",
       "      <td>1.36</td>\n",
       "      <td>0.00</td>\n",
       "      <td>3.07</td>\n",
       "      <td>1.27</td>\n",
       "    </tr>\n",
       "    <tr>\n",
       "      <th>min</th>\n",
       "      <td>500.00</td>\n",
       "      <td>0.00</td>\n",
       "      <td>0.00</td>\n",
       "      <td>0.00</td>\n",
       "      <td>0.00</td>\n",
       "      <td>1.00</td>\n",
       "      <td>2007.00</td>\n",
       "    </tr>\n",
       "    <tr>\n",
       "      <th>25%</th>\n",
       "      <td>2000.00</td>\n",
       "      <td>0.00</td>\n",
       "      <td>0.00</td>\n",
       "      <td>0.00</td>\n",
       "      <td>0.00</td>\n",
       "      <td>4.00</td>\n",
       "      <td>2011.00</td>\n",
       "    </tr>\n",
       "    <tr>\n",
       "      <th>50%</th>\n",
       "      <td>5000.00</td>\n",
       "      <td>0.00</td>\n",
       "      <td>0.00</td>\n",
       "      <td>0.00</td>\n",
       "      <td>0.00</td>\n",
       "      <td>7.00</td>\n",
       "      <td>2012.00</td>\n",
       "    </tr>\n",
       "    <tr>\n",
       "      <th>75%</th>\n",
       "      <td>10000.00</td>\n",
       "      <td>0.00</td>\n",
       "      <td>0.00</td>\n",
       "      <td>0.00</td>\n",
       "      <td>0.00</td>\n",
       "      <td>9.00</td>\n",
       "      <td>2013.00</td>\n",
       "    </tr>\n",
       "    <tr>\n",
       "      <th>max</th>\n",
       "      <td>80000.00</td>\n",
       "      <td>0.00</td>\n",
       "      <td>100.00</td>\n",
       "      <td>10.00</td>\n",
       "      <td>0.00</td>\n",
       "      <td>12.00</td>\n",
       "      <td>2013.00</td>\n",
       "    </tr>\n",
       "  </tbody>\n",
       "</table>\n",
       "</div>"
      ],
      "text/plain": [
       "       Amount Requested  Risk_Score  Debt-To-Income Ratio  Employment Length  \\\n",
       "count          27440.00    27440.00              27440.00           27320.00   \n",
       "mean            7744.67        0.00                  1.32               0.31   \n",
       "std             8784.96        0.00                  5.97               1.36   \n",
       "min              500.00        0.00                  0.00               0.00   \n",
       "25%             2000.00        0.00                  0.00               0.00   \n",
       "50%             5000.00        0.00                  0.00               0.00   \n",
       "75%            10000.00        0.00                  0.00               0.00   \n",
       "max            80000.00        0.00                100.00              10.00   \n",
       "\n",
       "       Policy Code    Month     Year  \n",
       "count     27440.00 27440.00 27440.00  \n",
       "mean          0.00     6.90  2011.83  \n",
       "std           0.00     3.07     1.27  \n",
       "min           0.00     1.00  2007.00  \n",
       "25%           0.00     4.00  2011.00  \n",
       "50%           0.00     7.00  2012.00  \n",
       "75%           0.00     9.00  2013.00  \n",
       "max           0.00    12.00  2013.00  "
      ]
     },
     "execution_count": 20,
     "metadata": {},
     "output_type": "execute_result"
    }
   ],
   "source": [
    "df_negative_risk.describe()"
   ]
  },
  {
   "cell_type": "markdown",
   "metadata": {},
   "source": [
    "We may see, that people, who have Risk Score =0, have vary small Debt-To-Income Ratio. Looks like it is reasonable values."
   ]
  },
  {
   "cell_type": "code",
   "execution_count": 21,
   "metadata": {},
   "outputs": [
    {
     "data": {
      "text/html": [
       "<div>\n",
       "<style scoped>\n",
       "    .dataframe tbody tr th:only-of-type {\n",
       "        vertical-align: middle;\n",
       "    }\n",
       "\n",
       "    .dataframe tbody tr th {\n",
       "        vertical-align: top;\n",
       "    }\n",
       "\n",
       "    .dataframe thead th {\n",
       "        text-align: right;\n",
       "    }\n",
       "</style>\n",
       "<table border=\"1\" class=\"dataframe\">\n",
       "  <thead>\n",
       "    <tr style=\"text-align: right;\">\n",
       "      <th></th>\n",
       "      <th>Amount Requested</th>\n",
       "      <th>Risk_Score</th>\n",
       "      <th>Debt-To-Income Ratio</th>\n",
       "      <th>Employment Length</th>\n",
       "      <th>Policy Code</th>\n",
       "      <th>Month</th>\n",
       "      <th>Year</th>\n",
       "    </tr>\n",
       "  </thead>\n",
       "  <tbody>\n",
       "    <tr>\n",
       "      <th>count</th>\n",
       "      <td>2922223.00</td>\n",
       "      <td>2922223.00</td>\n",
       "      <td>2922223.00</td>\n",
       "      <td>2869924.00</td>\n",
       "      <td>2922087.00</td>\n",
       "      <td>2922223.00</td>\n",
       "      <td>2922223.00</td>\n",
       "    </tr>\n",
       "    <tr>\n",
       "      <th>mean</th>\n",
       "      <td>12655.51</td>\n",
       "      <td>634.15</td>\n",
       "      <td>24.34</td>\n",
       "      <td>0.54</td>\n",
       "      <td>0.00</td>\n",
       "      <td>7.18</td>\n",
       "      <td>2015.53</td>\n",
       "    </tr>\n",
       "    <tr>\n",
       "      <th>std</th>\n",
       "      <td>10880.56</td>\n",
       "      <td>65.63</td>\n",
       "      <td>20.87</td>\n",
       "      <td>1.93</td>\n",
       "      <td>0.09</td>\n",
       "      <td>3.71</td>\n",
       "      <td>1.98</td>\n",
       "    </tr>\n",
       "    <tr>\n",
       "      <th>min</th>\n",
       "      <td>0.00</td>\n",
       "      <td>300.00</td>\n",
       "      <td>0.00</td>\n",
       "      <td>0.00</td>\n",
       "      <td>0.00</td>\n",
       "      <td>1.00</td>\n",
       "      <td>2007.00</td>\n",
       "    </tr>\n",
       "    <tr>\n",
       "      <th>25%</th>\n",
       "      <td>4400.00</td>\n",
       "      <td>593.00</td>\n",
       "      <td>8.99</td>\n",
       "      <td>0.00</td>\n",
       "      <td>0.00</td>\n",
       "      <td>4.00</td>\n",
       "      <td>2014.00</td>\n",
       "    </tr>\n",
       "    <tr>\n",
       "      <th>50%</th>\n",
       "      <td>10000.00</td>\n",
       "      <td>638.00</td>\n",
       "      <td>19.92</td>\n",
       "      <td>0.00</td>\n",
       "      <td>0.00</td>\n",
       "      <td>8.00</td>\n",
       "      <td>2016.00</td>\n",
       "    </tr>\n",
       "    <tr>\n",
       "      <th>75%</th>\n",
       "      <td>20000.00</td>\n",
       "      <td>675.00</td>\n",
       "      <td>34.47</td>\n",
       "      <td>0.00</td>\n",
       "      <td>0.00</td>\n",
       "      <td>11.00</td>\n",
       "      <td>2017.00</td>\n",
       "    </tr>\n",
       "    <tr>\n",
       "      <th>max</th>\n",
       "      <td>1400000.00</td>\n",
       "      <td>990.00</td>\n",
       "      <td>100.00</td>\n",
       "      <td>10.00</td>\n",
       "      <td>2.00</td>\n",
       "      <td>12.00</td>\n",
       "      <td>2018.00</td>\n",
       "    </tr>\n",
       "  </tbody>\n",
       "</table>\n",
       "</div>"
      ],
      "text/plain": [
       "       Amount Requested  Risk_Score  Debt-To-Income Ratio  Employment Length  \\\n",
       "count        2922223.00  2922223.00            2922223.00         2869924.00   \n",
       "mean           12655.51      634.15                 24.34               0.54   \n",
       "std            10880.56       65.63                 20.87               1.93   \n",
       "min                0.00      300.00                  0.00               0.00   \n",
       "25%             4400.00      593.00                  8.99               0.00   \n",
       "50%            10000.00      638.00                 19.92               0.00   \n",
       "75%            20000.00      675.00                 34.47               0.00   \n",
       "max          1400000.00      990.00                100.00              10.00   \n",
       "\n",
       "       Policy Code      Month       Year  \n",
       "count   2922087.00 2922223.00 2922223.00  \n",
       "mean          0.00       7.18    2015.53  \n",
       "std           0.09       3.71       1.98  \n",
       "min           0.00       1.00    2007.00  \n",
       "25%           0.00       4.00    2014.00  \n",
       "50%           0.00       8.00    2016.00  \n",
       "75%           0.00      11.00    2017.00  \n",
       "max           2.00      12.00    2018.00  "
      ]
     },
     "execution_count": 21,
     "metadata": {},
     "output_type": "execute_result"
    }
   ],
   "source": [
    "df_positive_risk.describe()"
   ]
  },
  {
   "cell_type": "code",
   "execution_count": 22,
   "metadata": {},
   "outputs": [
    {
     "data": {
      "text/html": [
       "<div>\n",
       "<style scoped>\n",
       "    .dataframe tbody tr th:only-of-type {\n",
       "        vertical-align: middle;\n",
       "    }\n",
       "\n",
       "    .dataframe tbody tr th {\n",
       "        vertical-align: top;\n",
       "    }\n",
       "\n",
       "    .dataframe thead th {\n",
       "        text-align: right;\n",
       "    }\n",
       "</style>\n",
       "<table border=\"1\" class=\"dataframe\">\n",
       "  <thead>\n",
       "    <tr style=\"text-align: right;\">\n",
       "      <th></th>\n",
       "      <th>Amount Requested</th>\n",
       "      <th>Risk_Score</th>\n",
       "      <th>Debt-To-Income Ratio</th>\n",
       "      <th>Employment Length</th>\n",
       "      <th>Policy Code</th>\n",
       "      <th>Month</th>\n",
       "      <th>Year</th>\n",
       "    </tr>\n",
       "  </thead>\n",
       "  <tbody>\n",
       "    <tr>\n",
       "      <th>count</th>\n",
       "      <td>5595900.00</td>\n",
       "      <td>0.00</td>\n",
       "      <td>5595900.00</td>\n",
       "      <td>5348286.00</td>\n",
       "      <td>5595746.00</td>\n",
       "      <td>5595900.00</td>\n",
       "      <td>5595900.00</td>\n",
       "    </tr>\n",
       "    <tr>\n",
       "      <th>mean</th>\n",
       "      <td>12341.88</td>\n",
       "      <td>NaN</td>\n",
       "      <td>27.88</td>\n",
       "      <td>0.82</td>\n",
       "      <td>0.01</td>\n",
       "      <td>6.86</td>\n",
       "      <td>2017.05</td>\n",
       "    </tr>\n",
       "    <tr>\n",
       "      <th>std</th>\n",
       "      <td>10556.20</td>\n",
       "      <td>NaN</td>\n",
       "      <td>26.22</td>\n",
       "      <td>2.01</td>\n",
       "      <td>0.12</td>\n",
       "      <td>3.18</td>\n",
       "      <td>1.11</td>\n",
       "    </tr>\n",
       "    <tr>\n",
       "      <th>min</th>\n",
       "      <td>0.00</td>\n",
       "      <td>NaN</td>\n",
       "      <td>0.00</td>\n",
       "      <td>0.00</td>\n",
       "      <td>0.00</td>\n",
       "      <td>1.00</td>\n",
       "      <td>2007.00</td>\n",
       "    </tr>\n",
       "    <tr>\n",
       "      <th>25%</th>\n",
       "      <td>5000.00</td>\n",
       "      <td>NaN</td>\n",
       "      <td>9.73</td>\n",
       "      <td>0.00</td>\n",
       "      <td>0.00</td>\n",
       "      <td>4.00</td>\n",
       "      <td>2016.00</td>\n",
       "    </tr>\n",
       "    <tr>\n",
       "      <th>50%</th>\n",
       "      <td>10000.00</td>\n",
       "      <td>NaN</td>\n",
       "      <td>20.68</td>\n",
       "      <td>0.00</td>\n",
       "      <td>0.00</td>\n",
       "      <td>7.00</td>\n",
       "      <td>2018.00</td>\n",
       "    </tr>\n",
       "    <tr>\n",
       "      <th>75%</th>\n",
       "      <td>19000.00</td>\n",
       "      <td>NaN</td>\n",
       "      <td>36.46</td>\n",
       "      <td>0.00</td>\n",
       "      <td>0.00</td>\n",
       "      <td>9.00</td>\n",
       "      <td>2018.00</td>\n",
       "    </tr>\n",
       "    <tr>\n",
       "      <th>max</th>\n",
       "      <td>102325.00</td>\n",
       "      <td>NaN</td>\n",
       "      <td>100.00</td>\n",
       "      <td>10.00</td>\n",
       "      <td>2.00</td>\n",
       "      <td>12.00</td>\n",
       "      <td>2018.00</td>\n",
       "    </tr>\n",
       "  </tbody>\n",
       "</table>\n",
       "</div>"
      ],
      "text/plain": [
       "       Amount Requested  Risk_Score  Debt-To-Income Ratio  Employment Length  \\\n",
       "count        5595900.00        0.00            5595900.00         5348286.00   \n",
       "mean           12341.88         NaN                 27.88               0.82   \n",
       "std            10556.20         NaN                 26.22               2.01   \n",
       "min                0.00         NaN                  0.00               0.00   \n",
       "25%             5000.00         NaN                  9.73               0.00   \n",
       "50%            10000.00         NaN                 20.68               0.00   \n",
       "75%            19000.00         NaN                 36.46               0.00   \n",
       "max           102325.00         NaN                100.00              10.00   \n",
       "\n",
       "       Policy Code      Month       Year  \n",
       "count   5595746.00 5595900.00 5595900.00  \n",
       "mean          0.01       6.86    2017.05  \n",
       "std           0.12       3.18       1.11  \n",
       "min           0.00       1.00    2007.00  \n",
       "25%           0.00       4.00    2016.00  \n",
       "50%           0.00       7.00    2018.00  \n",
       "75%           0.00       9.00    2018.00  \n",
       "max           2.00      12.00    2018.00  "
      ]
     },
     "execution_count": 22,
     "metadata": {},
     "output_type": "execute_result"
    }
   ],
   "source": [
    "df_missing_risk.describe()"
   ]
  },
  {
   "cell_type": "markdown",
   "metadata": {},
   "source": [
    "While I've identified ranges for the Risk_Score variable, which fall between 300 and 850, I hesitate to remove rows with NaN values or those where risk equals 0. These rows may still contain valuable information within other features. Therefore, I suggest leaving the data as it is."
   ]
  },
  {
   "cell_type": "markdown",
   "metadata": {},
   "source": [
    "Data transformation and clening is done."
   ]
  },
  {
   "cell_type": "code",
   "execution_count": 23,
   "metadata": {},
   "outputs": [],
   "source": [
    "rejected_loan_df.to_csv(\"final_cleaned_rejected_loan_df.csv\")\n"
   ]
  }
 ],
 "metadata": {
  "kernelspec": {
   "display_name": "base",
   "language": "python",
   "name": "python3"
  },
  "language_info": {
   "codemirror_mode": {
    "name": "ipython",
    "version": 3
   },
   "file_extension": ".py",
   "mimetype": "text/x-python",
   "name": "python",
   "nbconvert_exporter": "python",
   "pygments_lexer": "ipython3",
   "version": "3.9.18"
  },
  "orig_nbformat": 4,
  "vscode": {
   "interpreter": {
    "hash": "29d145322a3ff5b477b1ac0c2dfb8b9685831c18ad7525f025e91fcf692c9f04"
   }
  }
 },
 "nbformat": 4,
 "nbformat_minor": 2
}
